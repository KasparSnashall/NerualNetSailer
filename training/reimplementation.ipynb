{
 "cells": [
  {
   "attachments": {},
   "cell_type": "markdown",
   "metadata": {},
   "source": [
    "# Reimplementing basics of tensorflow\n",
    "Exersise to understand how tensorflow is built, again based on the book by Chollet. In the 2021 book version there are some coding issues on page 63. Corrected in this code. "
   ]
  },
  {
   "cell_type": "code",
   "execution_count": 3,
   "metadata": {},
   "outputs": [],
   "source": [
    "import tensorflow as tf"
   ]
  },
  {
   "cell_type": "code",
   "execution_count": 4,
   "metadata": {},
   "outputs": [],
   "source": [
    "class NaiveDense:\n",
    "    \"\"\"\n",
    "    A basic dense layer, requires an activation function\n",
    "    \"\"\"\n",
    "    def __init__(self, input_size, output_size, activation):\n",
    "        self.activation = activation\n",
    "        w_shape = (input_size, output_size) # weights tuple shape\n",
    "        w_initial_vals = tf.random.uniform(w_shape, minval=0, maxval=0.1)\n",
    "        self.W = tf.Variable(w_initial_vals)\n",
    "        \n",
    "        b_shape = (output_size,) # obviously a vector not a matrix output\n",
    "        b_intial_vals = tf.zeros(b_shape)\n",
    "        self.b = tf.Variable(b_intial_vals)\n",
    "    \n",
    "    def  __call__(self,inputs):\n",
    "        return self.activation(tf.matmul(inputs, self.W)+ self.b)\n",
    "    \n",
    "    @property # not used to this decorator\n",
    "    def weights(self):\n",
    "        return [self.W, self.b]\n",
    "        "
   ]
  },
  {
   "cell_type": "code",
   "execution_count": null,
   "metadata": {},
   "outputs": [],
   "source": []
  }
 ],
 "metadata": {
  "kernelspec": {
   "display_name": "base",
   "language": "python",
   "name": "python3"
  },
  "language_info": {
   "codemirror_mode": {
    "name": "ipython",
    "version": 3
   },
   "file_extension": ".py",
   "mimetype": "text/x-python",
   "name": "python",
   "nbconvert_exporter": "python",
   "pygments_lexer": "ipython3",
   "version": "3.9.12"
  },
  "orig_nbformat": 4
 },
 "nbformat": 4,
 "nbformat_minor": 2
}
